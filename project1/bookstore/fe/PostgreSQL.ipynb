{
 "cells": [
  {
   "cell_type": "code",
   "execution_count": 65,
   "id": "initial_id",
   "metadata": {
    "collapsed": true,
    "ExecuteTime": {
     "end_time": "2024-12-26T15:08:53.940852600Z",
     "start_time": "2024-12-26T15:08:53.833255400Z"
    }
   },
   "outputs": [
    {
     "name": "stdout",
     "output_type": "stream",
     "text": [
      "connection successful!\n"
     ]
    }
   ],
   "source": [
    "import psycopg2\n",
    "#建立数据库连接\n",
    "con = psycopg2.connect(database=\"zxzj\", user=\"postgres\", password=\"123456\", host=\"localhost\", port=\"5432\")\n",
    "print(\"connection successful!\\n\")"
   ]
  },
  {
   "cell_type": "code",
   "execution_count": 66,
   "outputs": [],
   "source": [
    "autocommit = psycopg2.extensions.ISOLATION_LEVEL_AUTOCOMMIT\n",
    "con.set_isolation_level(autocommit)\n",
    "cur = (con.cursor())"
   ],
   "metadata": {
    "collapsed": false,
    "ExecuteTime": {
     "end_time": "2024-12-26T15:08:54.754226200Z",
     "start_time": "2024-12-26T15:08:54.743630500Z"
    }
   },
   "id": "564926d83b02bdd6"
  },
  {
   "cell_type": "code",
   "execution_count": 7,
   "outputs": [],
   "source": [
    "create_bookDB_sql = \"\"\"\n",
    "CREATE TABLE IF NOT EXISTS bookDB (\n",
    "    id TEXT primary key,\n",
    "    title TEXT,\n",
    "    author TEXT,\n",
    "    publisher TEXT,\n",
    "    original_title TEXT,\n",
    "    translator TEXT,\n",
    "    pub_year TEXT,\n",
    "    pages INTEGER,\n",
    "    price INTEGER,\n",
    "    currency_unit TEXT,\n",
    "    binding TEXT,\n",
    "    isbn TEXT,\n",
    "    author_intro TEXT,\n",
    "    book_intro text,\n",
    "    content TEXT,\n",
    "    tags TEXT\n",
    "    );\n",
    "\"\"\"\n",
    "cur.execute(create_bookDB_sql)"
   ],
   "metadata": {
    "collapsed": false,
    "ExecuteTime": {
     "end_time": "2024-12-25T07:59:39.877956400Z",
     "start_time": "2024-12-25T07:59:39.873824100Z"
    }
   },
   "id": "be9bcbfce1f2cbb5"
  },
  {
   "cell_type": "code",
   "execution_count": 12,
   "outputs": [],
   "source": [
    "import sqlite3\n",
    "import os\n",
    "\n",
    "os.chmod('D:/bookstore2/bookstoreTask/CDMS.Xuan_ZHOU.2024Fall.DaSE/project1/bookstore/fe/data/book_lx.db', 0o664)  \n",
    "conn = sqlite3.connect('D:/bookstore2/bookstoreTask/CDMS.Xuan_ZHOU.2024Fall.DaSE/project1/bookstore/fe/data/book_lx.db')  # 确保路径正确\n",
    "cursor = conn.cursor()\n",
    "cursor.execute(\"SELECT * FROM book\")\n",
    "rows = cursor.fetchall()\n",
    "\n",
    "insert_query = \"\"\"\n",
    "INSERT INTO bookDB (id, title, author, publisher, original_title, translator, pub_year, pages, price, \n",
    "                     currency_unit, binding, isbn, author_intro, book_intro, content, tags)\n",
    "VALUES (%s, %s, %s, %s, %s, %s, %s, %s, %s, %s, %s, %s, %s, %s, %s, %s)\n",
    "ON CONFLICT(id) DO NOTHING;\n",
    "\"\"\"\n",
    "\n",
    "# 将从 SQLite 获取的每一行数据插入到 PostgreSQL 表中\n",
    "for row in rows:\n",
    "    book_data = (\n",
    "        row[0],  # id\n",
    "        row[1],  # title\n",
    "        row[2],  # author\n",
    "        row[3],  # publisher\n",
    "        row[4],  # original_title\n",
    "        row[5],  # translator\n",
    "        row[6],  # pub_year\n",
    "        row[7],  # pages\n",
    "        row[8],  # price\n",
    "        row[9],  # currency_unit\n",
    "        row[10], # binding\n",
    "        row[11], # isbn\n",
    "        row[12], # author_intro\n",
    "        row[13], # book_intro\n",
    "        row[14], # content\n",
    "        row[15], # tags\n",
    "    )\n",
    "    \n",
    "    cur.execute(insert_query, book_data)"
   ],
   "metadata": {
    "collapsed": false,
    "ExecuteTime": {
     "end_time": "2024-12-25T08:07:33.167128400Z",
     "start_time": "2024-12-25T08:06:29.767910300Z"
    }
   },
   "id": "d7d04c1d0b6a3fa2"
  },
  {
   "cell_type": "code",
   "execution_count": 13,
   "outputs": [],
   "source": [
    "con.commit()\n",
    "conn.close()"
   ],
   "metadata": {
    "collapsed": false,
    "ExecuteTime": {
     "end_time": "2024-12-25T08:07:55.832183400Z",
     "start_time": "2024-12-25T08:07:55.803441400Z"
    }
   },
   "id": "b301beb5cbc15a1"
  },
  {
   "cell_type": "code",
   "execution_count": 14,
   "outputs": [
    {
     "name": "stdout",
     "output_type": "stream",
     "text": [
      "('1000034', '生死遗言', '伊能静', '现代出版社', None, None, '2002-10', 203, 1800, '元', '平装', '9787800288494', '伊能静，台湾女歌手、演员。音乐专辑代表作：《我是猫》、《悲伤的朱丽叶》、《落入凡间的精灵》；拍摄电影：《好男好女》、《南国·再见·南国》、《8 1/2的女人》等；电视剧：《七亿新娘》、《人间四月天》、《心灵物语》、《远嫁日本》。\\n著有：《落入凡间的精灵》、《陪在你的左右》、《恋中的女人》、《为爱而生——伊能静自我写真》等书。\\n', '《生死遗言》是伊能静的散文作品集，收有《生死遗言》、《消失的羽翼》、《迷雾森林》、《似水流年》、《有时跳舞》等篇。\\n', '1 生死遗言\\n2 静默\\n3 你的信\\n4 气息\\n5 阴郁之心\\n6 衣冠冢\\n7 独角戏\\n8 双面薇罗妮卡\\n9 言语\\n10 疼痛\\n· · · · · ·     (\\n)\\n', '伊能静\\n生死遗言\\n随笔\\n散文\\n爱情\\n台湾\\n女性\\n人生\\n')\n"
     ]
    }
   ],
   "source": [
    "sql = (\"SELECT * FROM bookDB ORDER BY id ASC LIMIT 1;\")\n",
    "cur.execute(sql)\n",
    "result = cur.fetchone()\n",
    "\n",
    "print(result)"
   ],
   "metadata": {
    "collapsed": false,
    "ExecuteTime": {
     "end_time": "2024-12-25T08:07:56.800492900Z",
     "start_time": "2024-12-25T08:07:56.792490700Z"
    }
   },
   "id": "ff287879a02b8885"
  },
  {
   "cell_type": "code",
   "execution_count": 129,
   "outputs": [],
   "source": [
    "sql = \"DROP TABLE shopDB\"\n",
    "cur.execute(sql)"
   ],
   "metadata": {
    "collapsed": false,
    "ExecuteTime": {
     "end_time": "2024-12-25T16:09:25.984751600Z",
     "start_time": "2024-12-25T16:09:25.972350200Z"
    }
   },
   "id": "763ae1c282393236"
  },
  {
   "cell_type": "code",
   "execution_count": 68,
   "outputs": [],
   "source": [
    "create_userDB_sql = \"\"\"\n",
    "CREATE TABLE userDB (\n",
    "    id SERIAL PRIMARY KEY,          -- 用户 ID，自增主键\n",
    "    user_id TEXT NOT NULL ,\n",
    "    password TEXT NOT NULL,         -- 密码\n",
    "    token TEXT,                     -- Token\n",
    "    terminal TEXT,                  -- 终端信息\n",
    "    account INTEGER NOT NULL,          -- 账户余额\n",
    "    address TEXT,                   -- 地址\n",
    "    shops JSONB,                     -- 多个 shop.id\n",
    "    orders JSONB \n",
    "    );\n",
    "\"\"\"\n",
    "\n",
    "cur.execute(create_userDB_sql)"
   ],
   "metadata": {
    "collapsed": false,
    "ExecuteTime": {
     "end_time": "2024-12-25T14:04:56.795306800Z",
     "start_time": "2024-12-25T14:04:56.782092200Z"
    }
   },
   "id": "b8085b1d3a604564"
  },
  {
   "cell_type": "code",
   "execution_count": 70,
   "outputs": [],
   "source": [
    "sql = \"\"\"\n",
    "INSERT INTO userDB (user_id, password, token, terminal, account, address, shops, orders)\n",
    "VALUES\n",
    "(\n",
    "    '张三',\n",
    "    '123456',                                -- 密码\n",
    "    'some_token',                                   -- Token\n",
    "    'desktop',                                      -- 终端\n",
    "     300,                                 -- 账户\n",
    "    '123 User Address, City',                       -- 地址\n",
    "    '[1, 2, 3]'::jsonb,                             -- shop.id 列表\n",
    "    '[{\"book_id\": 101, \"store_id\": 5, \"num\": 2, \"order_id\": 5001, \"state\": \"pending\", \"address\": \"123 Main St, City\", \"order_time\": \"20440344:2131\"},\n",
    "      {\"book_id\": 102, \"store_id\": 6, \"num\": 1, \"order_id\": 5002, \"state\": \"shipped\", \"address\": \"456 Oak St, City\", \"order_time\": \"20440344:2131\"}]'::jsonb  -- 订单列表，JSONB 格式\n",
    ");\n",
    "\"\"\"\n",
    "\n",
    "cur.execute(sql)"
   ],
   "metadata": {
    "collapsed": false,
    "ExecuteTime": {
     "end_time": "2024-12-25T14:05:30.450735900Z",
     "start_time": "2024-12-25T14:05:30.439446400Z"
    }
   },
   "id": "51791487efe4bc57"
  },
  {
   "cell_type": "code",
   "execution_count": 71,
   "outputs": [
    {
     "name": "stdout",
     "output_type": "stream",
     "text": [
      "(1, '张三', '123456', 'some_token', 'desktop', 300, '123 User Address, City', [1, 2, 3], [{'num': 2, 'state': 'pending', 'address': '123 Main St, City', 'book_id': 101, 'order_id': 5001, 'store_id': 5, 'order_time': '20440344:2131'}, {'num': 1, 'state': 'shipped', 'address': '456 Oak St, City', 'book_id': 102, 'order_id': 5002, 'store_id': 6, 'order_time': '20440344:2131'}])\n"
     ]
    }
   ],
   "source": [
    "sql = (\"SELECT * FROM userDB ORDER BY id ASC LIMIT 1;\")\n",
    "cur.execute(sql)\n",
    "result = cur.fetchone()\n",
    "\n",
    "print(result)"
   ],
   "metadata": {
    "collapsed": false,
    "ExecuteTime": {
     "end_time": "2024-12-25T14:05:32.903883Z",
     "start_time": "2024-12-25T14:05:32.891911400Z"
    }
   },
   "id": "6b94cb59af932cab"
  },
  {
   "cell_type": "code",
   "execution_count": 24,
   "outputs": [],
   "source": [
    "con.commit()"
   ],
   "metadata": {
    "collapsed": false,
    "ExecuteTime": {
     "end_time": "2024-12-25T08:26:21.929962100Z",
     "start_time": "2024-12-25T08:26:21.928448800Z"
    }
   },
   "id": "8d14ca0e7b212d02"
  },
  {
   "cell_type": "code",
   "execution_count": 130,
   "outputs": [],
   "source": [
    "create_shopDB_sql = \"\"\"\n",
    "CREATE TABLE shopDB (\n",
    "    id SERIAL PRIMARY KEY,          -- 用户 ID，自增主键\n",
    "    shop_id TEXT NOT NULL ,\n",
    "    owner_id TEXT NOT NULL ,\n",
    "    password TEXT NOT NULL ,\n",
    "    books JSONB,\n",
    "    orders JSONB                    -- 多个 order 字典，使用 JSONB 存储对象数组\n",
    ");\n",
    "\"\"\"\n",
    "cur.execute(create_shopDB_sql)"
   ],
   "metadata": {
    "collapsed": false,
    "ExecuteTime": {
     "end_time": "2024-12-25T16:09:34.010437400Z",
     "start_time": "2024-12-25T16:09:33.994975300Z"
    }
   },
   "id": "cecb0c6fb59e9c8a"
  },
  {
   "cell_type": "code",
   "execution_count": null,
   "outputs": [],
   "source": [],
   "metadata": {
    "collapsed": false
   },
   "id": "82b63d8e5e3f901d"
  },
  {
   "cell_type": "code",
   "execution_count": 27,
   "outputs": [],
   "source": [
    "sql = \"\"\"\n",
    "INSERT INTO shopDB (shop_id, owner_id, password, books, orders)\n",
    "VALUES\n",
    "(\n",
    "    '淘宝',\n",
    "    '刘大',\n",
    "    'password',                                -- 密码\n",
    "    '[\n",
    "        {\n",
    "            \"book_id\": \"34144636\",\n",
    "            \"num\": 20,\n",
    "            \"price\": 45,\n",
    "            \"book_info\": \"good\"\n",
    "        },\n",
    "        {\n",
    "            \"book_id\": \"3242475\",\n",
    "            \"num\": 50,\n",
    "            \"price\": 55,\n",
    "            \"book_info\": \"good\"\n",
    "        }\n",
    "    ]'::jsonb,\n",
    "    '[{\n",
    "            \"order_id\": \"fasge23445df\",\n",
    "            \"buyer_id\": \"id1\",\n",
    "            \"book_id\": \"345235235\",\n",
    "            \"count\": 1,\n",
    "            \"address\": \"shanghai\",\n",
    "            \"state\": \"pending\",\n",
    "            \"order_time\": \"2024-10-31T19:44:35.264736\"\n",
    "        },\n",
    "        {\n",
    "            \"order_id\": \"daffwer123145\",\n",
    "            \"buyer_id\": \"id2\",\n",
    "            \"book_id\": \"345235237\",\n",
    "            \"count\": 1,\n",
    "            \"address\": \"shanghai\",\n",
    "            \"state\": \"shipped\",\n",
    "            \"order_time\": \"2024-10-31T19:44:35.264731\"\n",
    "        }]'::jsonb  -- 订单列表，JSONB 格式\n",
    ");\n",
    "\"\"\"\n",
    "\n",
    "cur.execute(sql)"
   ],
   "metadata": {
    "collapsed": false,
    "ExecuteTime": {
     "end_time": "2024-12-26T02:05:50.327693400Z",
     "start_time": "2024-12-26T02:05:50.315376200Z"
    }
   },
   "id": "b13f85944d1812fe"
  },
  {
   "cell_type": "code",
   "execution_count": 133,
   "outputs": [
    {
     "name": "stdout",
     "output_type": "stream",
     "text": [
      "(1, '天猫', '李四', 'password', [{'num': 20, 'price': 45, 'book_id': '34144636', 'book_info': 'good'}, {'num': 50, 'price': 55, 'book_id': '3242475', 'book_info': 'good'}], [{'count': 1, 'state': 'pending', 'address': 'shanghai', 'book_id': '345235235', 'buyer_id': 'id1', 'order_id': 'fasge23445df', 'order_time': '2024-10-31T19:44:35.264736'}, {'count': 1, 'state': 'shipped', 'address': 'shanghai', 'book_id': '345235237', 'buyer_id': 'id2', 'order_id': 'daffwer123145', 'order_time': '2024-10-31T19:44:35.264731'}])\n"
     ]
    }
   ],
   "source": [
    "sql = (\"SELECT * FROM shopDB ORDER BY id ASC LIMIT 1;\")\n",
    "cur.execute(sql)\n",
    "result = cur.fetchone()\n",
    "\n",
    "print(result)\n",
    "\n",
    "con.commit()"
   ],
   "metadata": {
    "collapsed": false,
    "ExecuteTime": {
     "end_time": "2024-12-25T16:09:48.342363800Z",
     "start_time": "2024-12-25T16:09:48.331290500Z"
    }
   },
   "id": "bdac16937101aedd"
  },
  {
   "cell_type": "code",
   "execution_count": 52,
   "outputs": [],
   "source": [
    "sql = \"\"\"\n",
    "    UPDATE shopDB\n",
    "    SET books = (\n",
    "        SELECT jsonb_agg(\n",
    "            CASE\n",
    "                WHEN book->>'book_id' = %s THEN\n",
    "                    jsonb_set(book, '{num}', ( (book->>'num')::int - %s )::text::jsonb)\n",
    "                ELSE\n",
    "                    book\n",
    "            END\n",
    "        )\n",
    "        FROM jsonb_array_elements(books) AS book\n",
    "    )\n",
    "    WHERE shop_id = %s;\n",
    "\"\"\",()\n",
    "\n",
    "# 使用参数化查询，传入值为元组\n",
    "cur.execute(sql, ('34144636', 1, '天猫'))\n"
   ],
   "metadata": {
    "collapsed": false,
    "ExecuteTime": {
     "end_time": "2024-12-25T13:03:16.604879300Z",
     "start_time": "2024-12-25T13:03:16.598501100Z"
    }
   },
   "id": "1733c39bbb72a0e3"
  },
  {
   "cell_type": "code",
   "execution_count": 56,
   "outputs": [],
   "source": [
    "import json\n",
    "new_order = {\n",
    "    \"order_id\": \"newOrder123\",\n",
    "    \"buyer_id\": \"id3\",\n",
    "    \"book_id\": \"345235238\",\n",
    "    \"count\": 2,\n",
    "    \"address\": \"beijing\",\n",
    "    \"state\": \"pending\",\n",
    "    \"order_time\": \"2024-12-25T00:00:00\"\n",
    "}\n",
    "\n",
    "sql = \"\"\"\n",
    "UPDATE shopDB\n",
    "SET orders = orders || %s::jsonb\n",
    "WHERE shop_id = %s ;\n",
    "\"\"\"\n",
    "cur.execute(sql, [json.dumps([new_order]), '天猫', ])\n"
   ],
   "metadata": {
    "collapsed": false,
    "ExecuteTime": {
     "end_time": "2024-12-25T13:25:14.380457200Z",
     "start_time": "2024-12-25T13:25:14.371669300Z"
    }
   },
   "id": "7fdd06e859b57ede"
  },
  {
   "cell_type": "code",
   "execution_count": 57,
   "outputs": [
    {
     "name": "stdout",
     "output_type": "stream",
     "text": [
      "(1, '天猫', '李四', 'password', [{'num': 19, 'price': 45, 'book_id': '34144636'}, None], [{'count': 1, 'state': 'pending', 'address': 'shanghai', 'book_id': '345235235', 'buyer_id': 'id1', 'order_id': 'fasge23445df', 'order_time': '2024-10-31T19:44:35.264736'}, {'count': 1, 'state': 'shipped', 'address': 'shanghai', 'book_id': '345235237', 'buyer_id': 'id2', 'order_id': 'daffwer123145', 'order_time': '2024-10-31T19:44:35.264731'}, {'count': 2, 'state': 'pending', 'address': 'beijing', 'book_id': '345235238', 'buyer_id': 'id3', 'order_id': 'newOrder123', 'order_time': '2024-12-25T00:00:00'}])\n",
      "1\n"
     ]
    }
   ],
   "source": [
    "sql = \"\"\"\n",
    "SELECT * FROM shopDB where shop_id = %s;\n",
    "\"\"\"\n",
    "params = (\"天猫\",)\n",
    "cur.execute(sql, params)\n",
    "result = cur.fetchone()\n",
    "print(result)\n",
    "if result is None:\n",
    "    print(\"hh\")\n",
    "else:\n",
    "    print(1)"
   ],
   "metadata": {
    "collapsed": false,
    "ExecuteTime": {
     "end_time": "2024-12-25T13:25:17.049066700Z",
     "start_time": "2024-12-25T13:25:17.035709900Z"
    }
   },
   "id": "60caeff5ad010f7e"
  },
  {
   "cell_type": "code",
   "execution_count": 38,
   "outputs": [
    {
     "name": "stdout",
     "output_type": "stream",
     "text": [
      "('50', '55')\n",
      "50\n"
     ]
    }
   ],
   "source": [
    "cur.execute(\"\"\"\n",
    "                    SELECT book->>'num' AS num, \n",
    "                           book->>'price' AS price\n",
    "                    FROM shopDB,\n",
    "                         jsonb_array_elements(books) AS book\n",
    "                    WHERE shop_id = %s\n",
    "                    AND book->>'book_id' = %s;\"\"\",\n",
    "                (\"天猫\", \"3242475\"))\n",
    "\n",
    "result = cur.fetchone()\n",
    "print(result)\n",
    "print(result[0])\n"
   ],
   "metadata": {
    "collapsed": false,
    "ExecuteTime": {
     "end_time": "2024-12-25T10:14:14.663384600Z",
     "start_time": "2024-12-25T10:14:14.654436400Z"
    }
   },
   "id": "b71fa7fb70c891e7"
  },
  {
   "cell_type": "code",
   "execution_count": 139,
   "outputs": [
    {
     "name": "stdout",
     "output_type": "stream",
     "text": [
      "(1, '天猫', '李四', 'password', [{'num': 20, 'price': 45, 'book_id': '34144636', 'book_info': 'good'}, {'num': 50, 'price': 55, 'book_id': '3242475', 'book_info': 'good'}, {'num': 9, 'price': 50, 'book_id': 'book_id', 'book_info': 'haha'}], [{'count': 1, 'state': 'pending', 'address': 'shanghai', 'book_id': '345235235', 'buyer_id': 'id1', 'order_id': 'fasge23445df', 'order_time': '2024-10-31T19:44:35.264736'}, {'count': 1, 'state': 'shipped', 'address': 'shanghai', 'book_id': '345235237', 'buyer_id': 'id2', 'order_id': 'daffwer123145', 'order_time': '2024-10-31T19:44:35.264731'}])\n"
     ]
    }
   ],
   "source": [
    "sql = \"\"\"\n",
    "SELECT * FROM shopDB where shop_id = %s;\n",
    "\"\"\"\n",
    "\n",
    "cur.execute(sql, (\"天猫\",))\n",
    "result = cur.fetchone()\n",
    "print(result)"
   ],
   "metadata": {
    "collapsed": false,
    "ExecuteTime": {
     "end_time": "2024-12-25T16:33:00.563992500Z",
     "start_time": "2024-12-25T16:33:00.552017900Z"
    }
   },
   "id": "82153f24264da3e8"
  },
  {
   "cell_type": "code",
   "execution_count": 124,
   "outputs": [
    {
     "name": "stdout",
     "output_type": "stream",
     "text": [
      "[({'count': 3, 'state': 'paid1', 'address': 'beijing', 'book_id': '345235238', 'buyer_id': 'id3', 'order_id': 'newOrder123', 'order_time': '2024-12-25T00:00:00'},)]\n"
     ]
    }
   ],
   "source": [
    "# 获取指定order\n",
    "sql = \"\"\"\n",
    "SELECT order_item\n",
    "FROM shopDB,\n",
    "jsonb_array_elements(orders) AS order_item\n",
    "WHERE order_item->>'order_id' = %s AND shop_id = %s;\n",
    "\"\"\"\n",
    "order_id = \"newOrder123\"\n",
    "shop_id = \"天猫\"\n",
    "cur.execute(sql, (order_id, shop_id))\n",
    "result = cur.fetchall()\n",
    "print(result)"
   ],
   "metadata": {
    "collapsed": false,
    "ExecuteTime": {
     "end_time": "2024-12-25T15:49:35.069333300Z",
     "start_time": "2024-12-25T15:49:35.058749200Z"
    }
   },
   "id": "dddb27b7568a402d"
  },
  {
   "cell_type": "code",
   "execution_count": 123,
   "outputs": [],
   "source": [
    "sql = \"\"\"\n",
    "    UPDATE shopDB\n",
    "SET orders = (\n",
    "    SELECT jsonb_agg(\n",
    "        CASE\n",
    "            WHEN \"order\"->>'order_id' = %s THEN\n",
    "                jsonb_set(\"order\", '{count}', '3')\n",
    "                \n",
    "            ELSE\n",
    "                \"order\"\n",
    "        END\n",
    "    )\n",
    "    FROM jsonb_array_elements(orders) AS \"order\"\n",
    ")\n",
    "WHERE shop_id = %s;\n",
    "\"\"\"\n",
    "\n",
    "cur.execute(sql, (\"newOrder123\", \"天猫\"))\n"
   ],
   "metadata": {
    "collapsed": false,
    "ExecuteTime": {
     "end_time": "2024-12-25T15:49:32.438217100Z",
     "start_time": "2024-12-25T15:49:32.422345400Z"
    }
   },
   "id": "5215cfb338001f61"
  },
  {
   "cell_type": "code",
   "execution_count": 127,
   "outputs": [],
   "source": [
    "num = 5\n",
    "sql = \"\"\"\n",
    "UPDATE userDB\n",
    "SET account = account - %s\n",
    "WHERE user_id = %s;\n",
    "\"\"\"\n",
    "cur.execute(sql, (num, \"张三\",))"
   ],
   "metadata": {
    "collapsed": false,
    "ExecuteTime": {
     "end_time": "2024-12-25T15:54:07.383669Z",
     "start_time": "2024-12-25T15:54:07.373020800Z"
    }
   },
   "id": "9b607ec54257ed98"
  },
  {
   "cell_type": "code",
   "execution_count": 149,
   "outputs": [
    {
     "name": "stdout",
     "output_type": "stream",
     "text": [
      "(1, '张三', '123456', '1111', '222', 195, '123 User Address, City', [1, 2, 3], [{'num': 2, 'state': 'pending', 'address': '123 Main St, City', 'book_id': 101, 'order_id': 5001, 'store_id': 5, 'order_time': '20440344:2131'}, {'num': 1, 'state': 'shipped', 'address': '456 Oak St, City', 'book_id': 102, 'order_id': 5002, 'store_id': 6, 'order_time': '20440344:2131'}])\n"
     ]
    }
   ],
   "source": [
    "sql = \"\"\"\n",
    "SELECT * FROM userDB where user_id = %s;\n",
    "\"\"\"\n",
    "\n",
    "cur.execute(sql, (\"张三\",))\n",
    "result = cur.fetchone()\n",
    "print(result)"
   ],
   "metadata": {
    "collapsed": false,
    "ExecuteTime": {
     "end_time": "2024-12-25T17:00:59.964640200Z",
     "start_time": "2024-12-25T17:00:59.953971300Z"
    }
   },
   "id": "c615e528fd4465ad"
  },
  {
   "cell_type": "code",
   "execution_count": 134,
   "outputs": [
    {
     "name": "stdout",
     "output_type": "stream",
     "text": [
      "30\n"
     ]
    }
   ],
   "source": [
    "book_data = {\n",
    "                'pages': None,\n",
    "                'price': None,}\n",
    "book_dict = {\n",
    "    'pages': 5,\n",
    "    'price':30\n",
    "}\n",
    "for key in book_data.keys():\n",
    "    if key in book_dict:\n",
    "        book_data[key] = book_dict[key]\n",
    "        if key == \"price\":\n",
    "            price = book_data[key]\n",
    "print(price)"
   ],
   "metadata": {
    "collapsed": false,
    "ExecuteTime": {
     "end_time": "2024-12-25T16:23:45.883700300Z",
     "start_time": "2024-12-25T16:23:45.857754300Z"
    }
   },
   "id": "e0c9aa17048fa67b"
  },
  {
   "cell_type": "code",
   "execution_count": 136,
   "outputs": [],
   "source": [
    "new_book = {\n",
    "                \"book_id\": \"book_id\",\n",
    "                \"num\" : 4,\n",
    "                \"price\" : 50,\n",
    "                \"book_info\" : \"haha\"\n",
    "            }\n",
    "cur.execute(\n",
    "    \"\"\"\n",
    "    UPDATE shopDB\n",
    "    SET books = books || %s::jsonb\n",
    "    WHERE shop_id = %s ;\n",
    "    \"\"\",\n",
    "    [json.dumps([new_book]), \"天猫\"]\n",
    ")"
   ],
   "metadata": {
    "collapsed": false,
    "ExecuteTime": {
     "end_time": "2024-12-25T16:25:44.330633100Z",
     "start_time": "2024-12-25T16:25:44.319452900Z"
    }
   },
   "id": "65aa7f02edc949c1"
  },
  {
   "cell_type": "code",
   "execution_count": 138,
   "outputs": [],
   "source": [
    "sql = \"\"\"\n",
    "UPDATE shopDB\n",
    "                    SET books = (\n",
    "                        SELECT jsonb_agg(\n",
    "                            CASE\n",
    "                                WHEN book->>'book_id' = %s THEN\n",
    "                                    jsonb_set(book, '{num}', ( (book->>'num')::int + %s )::text::jsonb)\n",
    "                                ELSE\n",
    "                                    book\n",
    "                            END\n",
    "                        )\n",
    "                        FROM jsonb_array_elements(books) AS book\n",
    "                    )\n",
    "                    WHERE shop_id = %s;\n",
    "\"\"\"\n",
    "cur.execute(sql, (\"book_id\", 5, \"天猫\"))"
   ],
   "metadata": {
    "collapsed": false,
    "ExecuteTime": {
     "end_time": "2024-12-25T16:32:38.675201100Z",
     "start_time": "2024-12-25T16:32:38.637136200Z"
    }
   },
   "id": "8fc9079067d23a0c"
  },
  {
   "cell_type": "code",
   "execution_count": 144,
   "outputs": [],
   "source": [
    "store_id = \"淘宝\"\n",
    "user_id = \"yzn\"\n",
    "password = \"123456\"\n",
    "books = None\n",
    "orders = None\n",
    "sql = \"\"\"\n",
    "            INSERT INTO shopDB (shop_id, owner_id, password, books, orders)\n",
    "            VALUES (%s, %s, %s, %s, %s);\n",
    "            \"\"\"\n",
    "cur.execute(sql, (store_id, user_id, password, books, orders))"
   ],
   "metadata": {
    "collapsed": false,
    "ExecuteTime": {
     "end_time": "2024-12-25T16:44:42.014515600Z",
     "start_time": "2024-12-25T16:44:42.008724700Z"
    }
   },
   "id": "e05e48cdd7bb11f9"
  },
  {
   "cell_type": "code",
   "execution_count": 26,
   "outputs": [
    {
     "name": "stdout",
     "output_type": "stream",
     "text": [
      "[(1, '天猫', '李四', 'password', [{'num': 20, 'price': 45, 'book_id': '34144636', 'book_info': 'good'}, {'num': 50, 'price': 55, 'book_id': '3242475', 'book_info': 'good'}, {'num': 9, 'price': 50, 'book_id': 'book_id', 'book_info': 'haha'}], [{'count': 1, 'state': 'shipped', 'address': 'shanghai', 'book_id': '345235237', 'buyer_id': 'id2', 'order_id': 'daffwer123145', 'order_time': '2024-10-31T19:44:35.264731'}])]\n"
     ]
    }
   ],
   "source": [
    "sql = \"\"\"\n",
    "SELECT * FROM shopDB;\n",
    "\"\"\"\n",
    "\n",
    "cur.execute(sql)\n",
    "result = cur.fetchall()\n",
    "print(result)"
   ],
   "metadata": {
    "collapsed": false,
    "ExecuteTime": {
     "end_time": "2024-12-26T01:55:37.399401900Z",
     "start_time": "2024-12-26T01:55:37.391907400Z"
    }
   },
   "id": "3076f81115356972"
  },
  {
   "cell_type": "code",
   "execution_count": 64,
   "outputs": [
    {
     "name": "stdout",
     "output_type": "stream",
     "text": [
      "[({'count': 1, 'state': 'shipped', 'address': 'shanghai', 'book_id': '345235237', 'buyer_id': 'id2', 'order_id': 'daffwer123145', 'order_time': '2024-10-31T19:44:35.264731'},)]\n",
      "1\n"
     ]
    }
   ],
   "source": [
    "sql = \"\"\"SELECT order_item\n",
    "            FROM shopDB,\n",
    "            jsonb_array_elements(orders) AS order_item\n",
    "            WHERE shop_id = %s;\"\"\"\n",
    "cur.execute(sql,(\"天猫\",))\n",
    "row = cur.fetchall()\n",
    "print(row)\n",
    "for r in row:\n",
    "    print(r[0][\"count\"])"
   ],
   "metadata": {
    "collapsed": false,
    "ExecuteTime": {
     "end_time": "2024-12-26T13:05:23.973089500Z",
     "start_time": "2024-12-26T13:05:23.954531900Z"
    }
   },
   "id": "2de4fc3ad44ff458"
  },
  {
   "cell_type": "code",
   "execution_count": 22,
   "outputs": [
    {
     "name": "stdout",
     "output_type": "stream",
     "text": [
      "[({'count': 1, 'state': 'paid3', 'address': 'shanghai', 'book_id': '345235235', 'buyer_id': 'id1', 'order_id': 'fasge23445df', 'order_time': '2024-10-31T19:44:35.264736'},), ({'count': 1, 'state': 'shipped', 'address': 'shanghai', 'book_id': '345235237', 'buyer_id': 'id2', 'order_id': 'daffwer123145', 'order_time': '2024-10-31T19:44:35.264731'},)]\n"
     ]
    }
   ],
   "source": [
    "cur.execute(\"\"\"\n",
    "            SELECT \n",
    "    order_item\n",
    "FROM \n",
    "    shopDB,\n",
    "    jsonb_array_elements(orders) AS order_item\n",
    "WHERE \n",
    "    shop_id = '天猫' AND\n",
    "    order_item->>'state' != 'received';\n",
    "            \"\"\", (\"天猫\",))\n",
    "row = list(cur.fetchall())\n",
    "print(row)"
   ],
   "metadata": {
    "collapsed": false,
    "ExecuteTime": {
     "end_time": "2024-12-26T01:28:58.376944500Z",
     "start_time": "2024-12-26T01:28:58.352414100Z"
    }
   },
   "id": "532ad0a4c3094cf8"
  },
  {
   "cell_type": "code",
   "execution_count": 60,
   "outputs": [
    {
     "ename": "ProgrammingError",
     "evalue": "no results to fetch",
     "output_type": "error",
     "traceback": [
      "\u001B[1;31m---------------------------------------------------------------------------\u001B[0m",
      "\u001B[1;31mProgrammingError\u001B[0m                          Traceback (most recent call last)",
      "Cell \u001B[1;32mIn[60], line 10\u001B[0m\n\u001B[0;32m      1\u001B[0m sql \u001B[38;5;241m=\u001B[39m \u001B[38;5;124m\"\"\"\u001B[39m\n\u001B[0;32m      2\u001B[0m \u001B[38;5;124mUPDATE shopDB\u001B[39m\n\u001B[0;32m      3\u001B[0m \u001B[38;5;124mSET orders = (\u001B[39m\n\u001B[1;32m   (...)\u001B[0m\n\u001B[0;32m      7\u001B[0m \u001B[38;5;124mWHERE shop_id = \u001B[39m\u001B[38;5;132;01m%s\u001B[39;00m\u001B[38;5;124m; \u001B[39m\n\u001B[0;32m      8\u001B[0m \u001B[38;5;124m\"\"\"\u001B[39m\n\u001B[0;32m      9\u001B[0m cur\u001B[38;5;241m.\u001B[39mexecute(sql, (\u001B[38;5;124m\"\u001B[39m\u001B[38;5;124m天猫\u001B[39m\u001B[38;5;124m\"\u001B[39m,))\n\u001B[1;32m---> 10\u001B[0m \u001B[38;5;28mprint\u001B[39m(\u001B[43mcur\u001B[49m\u001B[38;5;241;43m.\u001B[39;49m\u001B[43mfetchall\u001B[49m\u001B[43m(\u001B[49m\u001B[43m)\u001B[49m)\n",
      "\u001B[1;31mProgrammingError\u001B[0m: no results to fetch"
     ]
    }
   ],
   "source": [
    "sql = \"\"\"\n",
    "UPDATE shopDB\n",
    "SET orders = (\n",
    "SELECT jsonb_agg(\"order\")\n",
    "FROM jsonb_array_elements(orders) AS \"order\"\n",
    ")\n",
    "WHERE shop_id = %s; \n",
    "\"\"\"\n",
    "cur.execute(sql, (\"天猫\",))\n",
    "print(cur.fetchall())"
   ],
   "metadata": {
    "collapsed": false,
    "ExecuteTime": {
     "end_time": "2024-12-26T13:03:59.256049200Z",
     "start_time": "2024-12-26T13:03:59.217756Z"
    }
   },
   "id": "a08b5dc52295701f"
  },
  {
   "cell_type": "code",
   "execution_count": 39,
   "outputs": [
    {
     "name": "stdout",
     "output_type": "stream",
     "text": [
      "j\n",
      "j\n",
      "j\n",
      "j\n",
      "j\n",
      "j\n",
      "j\n",
      "j\n",
      "j\n",
      "j\n",
      "j\n",
      "j\n"
     ]
    }
   ],
   "source": [
    "sql = \"\"\"\n",
    "SELECT \n",
    "    shop_id,\n",
    "    \"order\"->>'order_id' AS order_id,\n",
    "    \"order\"->>'order_time' AS order_time,\n",
    "    \"order\"->>'buyer_id' AS buyer_id\n",
    "FROM \n",
    "    shopDB,\n",
    "    jsonb_array_elements(orders) AS \"order\"\n",
    "WHERE \n",
    "    \"order\"->>'state' != 'ordered';\n",
    "\"\"\"\n",
    "cur.execute(sql)\n",
    "store_data = cur.fetchall()\n",
    "for store_item in store_data:\n",
    "    for item in store_item:\n",
    "        if item is not None:\n",
    "            print(\"j\")"
   ],
   "metadata": {
    "collapsed": false,
    "ExecuteTime": {
     "end_time": "2024-12-26T02:14:05.842143800Z",
     "start_time": "2024-12-26T02:14:05.829928700Z"
    }
   },
   "id": "abc110c546d64f5f"
  },
  {
   "cell_type": "code",
   "execution_count": 50,
   "outputs": [],
   "source": [
    "from psycopg2 import sql\n",
    "# 40%\n",
    "def search_books(keyword: str, store_id: str):\n",
    "    page = 1\n",
    "    per_page = 10\n",
    "    # 创建全文搜索查询，匹配 title, book_intro, author, content, author_intro 字段\n",
    "    search_query = sql.SQL(\n",
    "        \"to_tsvector('english', title) || ' ' || \"\n",
    "        \"to_tsvector('english', book_intro) || ' ' || \"\n",
    "        \"to_tsvector('english', author) || ' ' || \"\n",
    "        \"to_tsvector('english', content) || ' ' || \"\n",
    "        \"to_tsvector('english', author_intro)\"\n",
    "    )\n",
    "\n",
    "    # 使用 sql.Literal 来处理 keyword 参数\n",
    "    ts_query = sql.SQL(\"to_tsquery('english', {})\").format(sql.Literal(keyword))\n",
    "\n",
    "    # 查询的基础部分\n",
    "    query = sql.SQL(\"\"\"\n",
    "            SELECT id, title, book_intro, author, content, author_intro\n",
    "            FROM bookDB\n",
    "            WHERE {} @@ {}\n",
    "        \"\"\").format(search_query, ts_query)\n",
    "    \n",
    "    # 分页\n",
    "    offset = (page - 1) * per_page\n",
    "    # 如果提供了 store_id，增加对商店中书籍ID的过滤\n",
    "    if store_id:\n",
    "        query += sql.SQL(\"\"\"\n",
    "                AND book_id IN (\n",
    "                    SELECT unnest(books)\n",
    "                    FROM shopDB\n",
    "                    WHERE shop_id = %s\n",
    "                    LIMIT %s OFFSET %s\n",
    "                )\n",
    "            \"\"\")\n",
    "        # 执行查询时，传递正确的参数\n",
    "        cur.execute(query, (store_id, per_page, offset))\n",
    "    else:\n",
    "        query += sql.SQL(\"\"\"\n",
    "            LIMIT %s OFFSET %s\n",
    "        \"\"\")\n",
    "        # 执行查询时，传递正确的参数\n",
    "        cur.execute(query, (per_page, offset))\n",
    "\n",
    "    results = cur.fetchall()\n",
    "    print(\"Books:\", results)\n",
    "\n",
    "    # 获取总数查询\n",
    "    total_query = sql.SQL(\"\"\"\n",
    "                SELECT COUNT(*)\n",
    "                FROM bookDB\n",
    "                WHERE {} @@ {}\n",
    "            \"\"\").format(search_query, ts_query)\n",
    "\n",
    "    # 如果 store_id 存在，添加商店过滤\n",
    "    if store_id:\n",
    "        total_query += sql.SQL(\"\"\"\n",
    "                    AND book_id IN (\n",
    "                        SELECT unnest(books)\n",
    "                        FROM shopDB\n",
    "                        WHERE shop_id = %s\n",
    "                    )\n",
    "                \"\"\")\n",
    "        # 执行总数查询时，传递正确的参数\n",
    "        cur.execute(total_query, (store_id,))\n",
    "    else:\n",
    "        # 执行总数查询时，不需要 store_id 参数\n",
    "        cur.execute(total_query)\n",
    "\n",
    "    total_count = cur.fetchone()[0]  # 获取总数\n",
    "    print(\"Total count:\", total_count)\n",
    "    \n",
    "    return True"
   ],
   "metadata": {
    "collapsed": false,
    "ExecuteTime": {
     "end_time": "2024-12-26T02:45:46.012404800Z",
     "start_time": "2024-12-26T02:45:45.992539700Z"
    }
   },
   "id": "286d78bb48056e2b"
  },
  {
   "cell_type": "code",
   "execution_count": 51,
   "outputs": [
    {
     "name": "stdout",
     "output_type": "stream",
     "text": [
      "Books: [('27082517', '我们为什么被霸凌？', '400天田野调查，15个触目惊心的故事，解开校园霸凌的暗黑魔方！武志红、伊能静、李雪、凯叔、樊登、佟丽华、李国庆阅后联合力荐！\\n《我们为什么被霸凌？》经过400天田野调查，呈现了15个触目惊心的校园霸凌故事，横跨小学、初中、高中、大学四个阶段，涵盖武力霸凌、流言霸凌、性 别霸凌、群体霸凌、校园霸凌等多种形式，揭示了99%的霸凌事件都可归因于家庭教育！\\n作家陈岚在《我们为什么被霸凌？》中用写实的笔触，将你遭遇过的、没遭遇过的、想得到的、想不到的霸凌事件做了全面且深刻的解剖，并为学校、家长和孩子提出了具体可行的解决方案。多数派眼里，不合群的少数派永远是可爱的猎物！霸凌者眼里，无作为的监护人永远是得力的帮凶！\\n穿着太土气？相貌太平庸？性格太软弱？成绩太优秀？\\n探明源头，才能真正将霸凌扼杀在摇篮里！\\n◎400天田野调查，15个触目惊心的故事，解开校园霸凌的暗...\\n', '陈岚', '霸凌——从我的原创伤出发\\n以此开始  小孩子的残酷\\n第一幕  不是所有小孩都天真无邪\\n哈洛的猴子\\n校园寂静岭\\n忘川之水\\n第二幕  躁动的青春不止荷尔蒙\\n小纰漏\\n凶器是一本书\\n黑武士\\n白武士\\n第三幕  作恶的世界里没有法不责众\\n以伐木累之名\\n同学会\\n我不杀伯仁\\n铁背心\\n第四幕  嫉妒是骨中的朽烂\\n朱鹮的安魂曲\\n疯人院奇缘\\n尚未结束  投胎是个技术活\\n· · · · · ·     (\\n)\\n', '陈岚\\n作家，主持人，儿童公益组织“小希望公益联盟”创办者，先后创立多家青少年保护机构，很多孩子的妈妈，女性及儿童心理健康发展研究者。\\n'), ('1000034', '生死遗言', '《生死遗言》是伊能静的散文作品集，收有《生死遗言》、《消失的羽翼》、《迷雾森林》、《似水流年》、《有时跳舞》等篇。\\n', '伊能静', '1 生死遗言\\n2 静默\\n3 你的信\\n4 气息\\n5 阴郁之心\\n6 衣冠冢\\n7 独角戏\\n8 双面薇罗妮卡\\n9 言语\\n10 疼痛\\n· · · · · ·     (\\n)\\n', '伊能静，台湾女歌手、演员。音乐专辑代表作：《我是猫》、《悲伤的朱丽叶》、《落入凡间的精灵》；拍摄电影：《好男好女》、《南国·再见·南国》、《8 1/2的女人》等；电视剧：《七亿新娘》、《人间四月天》、《心灵物语》、《远嫁日本》。\\n著有：《落入凡间的精灵》、《陪在你的左右》、《恋中的女人》、《为爱而生——伊能静自我写真》等书。\\n'), ('1418774', '生生世世', '一位心思细腻的独特女子，她行走、歌唱、用心生活、努力去爱。\\n明星作家伊能静继《生死遗言》之后，再度让两岸三地千万读者动容的幸福独白。\\n阳光洒在路上返照出我们的影子，影子相互依偎着，我说我想拍下我们的影子，你于将一只手插入口袋而另一只手则拉近我，而我知道即使看不见面孔，但我一定依然也能从我们相依的影子里，看见我的幸福的表情。\\n《生生世世》一书中写的就是她和哈林的爱情故事、与哈宝宝的亲密互动，当然也有自己一路走来的心情点滴和对已逝父亲的怀念，对于部分人士批评她刻意拿哈林来炒作，伊能静看得很开：“我写的当然都是我的亲身体验，而且也需要通过一些大家感兴趣的事，有机会看到我书中更深沉的意义。”\\n《生生世世》共23篇，以“爱情为一辈子的誓约”为主轴，除了继续与爱人的对话之外，伊能静此次更将笔触伸至自己青少年时代对爱的迷惘，以及如今已为人母...\\n', '伊能静', '生命如此美丽\\n夜冥天明\\n十九岁\\n一人旅\\n忏情的城市\\n遗忘\\n听风的少年\\n一段路两个人\\n一米星光\\n加州宾馆\\n旅程\\n亮的天\\n南方思念的天空\\n生生世世\\n312室\\n光亮城市\\n重叠\\n家常日子\\n幸福的理由\\n旅行\\n燃烧的生命\\n魂魄相依\\n买一本自己的书\\n· · · · · ·     (\\n)\\n', '')]\n",
      "Total count: 3\n"
     ]
    },
    {
     "data": {
      "text/plain": "True"
     },
     "execution_count": 51,
     "metadata": {},
     "output_type": "execute_result"
    }
   ],
   "source": [
    "keyword = \"伊能静\"\n",
    "store_id = None\n",
    "search_books(keyword, store_id)"
   ],
   "metadata": {
    "collapsed": false,
    "ExecuteTime": {
     "end_time": "2024-12-26T02:45:55.247747200Z",
     "start_time": "2024-12-26T02:45:46.559938700Z"
    }
   },
   "id": "69a1c3f30cf9b009"
  },
  {
   "cell_type": "code",
   "execution_count": 55,
   "outputs": [
    {
     "name": "stdout",
     "output_type": "stream",
     "text": [
      "[('books', 'jsonb')]\n"
     ]
    }
   ],
   "source": [
    "sql = \"\"\"\n",
    "SELECT column_name, data_type\n",
    "FROM information_schema.columns\n",
    "WHERE table_name = 'shopdb' AND column_name = 'books';\n",
    "\"\"\"\n",
    "\n",
    "cur.execute(sql)\n",
    "print(cur.fetchall())"
   ],
   "metadata": {
    "collapsed": false,
    "ExecuteTime": {
     "end_time": "2024-12-26T10:13:43.324019300Z",
     "start_time": "2024-12-26T10:13:43.309902100Z"
    }
   },
   "id": "f220d00a6307daf4"
  },
  {
   "cell_type": "code",
   "execution_count": 56,
   "outputs": [
    {
     "name": "stdout",
     "output_type": "stream",
     "text": [
      "(478, 'test_auto_cancel_order_dd417f37-c372-11ef-8ff6-900f0cb4fb46', 'test_auto_cancel_order_dd417f36-c372-11ef-bab3-900f0cb4fb46', 'test_auto_cancel_order_dd417f36-c372-11ef-bab3-900f0cb4fb46', None, None)\n"
     ]
    }
   ],
   "source": [
    "sql = \"\"\"\n",
    "select * from shopdb where shop_id = %s;\n",
    "\"\"\"\n",
    "cur.execute(sql, (\"test_auto_cancel_order_dd417f37-c372-11ef-8ff6-900f0cb4fb46\",))\n",
    "print(cur.fetchone())"
   ],
   "metadata": {
    "collapsed": false,
    "ExecuteTime": {
     "end_time": "2024-12-26T10:21:47.700920800Z",
     "start_time": "2024-12-26T10:21:47.665571800Z"
    }
   },
   "id": "e96e4c14e1bf9279"
  },
  {
   "cell_type": "code",
   "execution_count": 59,
   "outputs": [
    {
     "name": "stdout",
     "output_type": "stream",
     "text": [
      "books 是一个 JSON 数组\n"
     ]
    }
   ],
   "source": [
    "cur.execute(\"SELECT books FROM shopdb WHERE shop_id = %s;\", (\"天猫\",))\n",
    "result = cur.fetchone()\n",
    "\n",
    "# 假设 `result[0]` 是 `books` 字段的内容\n",
    "books = result[0]\n",
    "\n",
    "# 尝试解析并判断类型\n",
    "if isinstance(books, dict):\n",
    "    print(\"books 是一个 JSON 对象\")\n",
    "elif isinstance(books, list):\n",
    "    print(\"books 是一个 JSON 数组\")\n",
    "else:\n",
    "    print(\"books 既不是对象也不是数组\")"
   ],
   "metadata": {
    "collapsed": false,
    "ExecuteTime": {
     "end_time": "2024-12-26T10:33:18.163777Z",
     "start_time": "2024-12-26T10:33:18.144852800Z"
    }
   },
   "id": "c4952417cdbf8cdb"
  },
  {
   "cell_type": "code",
   "execution_count": null,
   "outputs": [],
   "source": [],
   "metadata": {
    "collapsed": false
   },
   "id": "e801c843aadf3bb6"
  }
 ],
 "metadata": {
  "kernelspec": {
   "display_name": "Python 3",
   "language": "python",
   "name": "python3"
  },
  "language_info": {
   "codemirror_mode": {
    "name": "ipython",
    "version": 2
   },
   "file_extension": ".py",
   "mimetype": "text/x-python",
   "name": "python",
   "nbconvert_exporter": "python",
   "pygments_lexer": "ipython2",
   "version": "2.7.6"
  }
 },
 "nbformat": 4,
 "nbformat_minor": 5
}
